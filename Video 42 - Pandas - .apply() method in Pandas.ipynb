{
 "cells": [
  {
   "cell_type": "markdown",
   "metadata": {},
   "source": [
    "This exercise has been done with the help of videos on Knowledge Shelf YouTube Channel"
   ]
  },
  {
   "cell_type": "markdown",
   "metadata": {},
   "source": [
    "This helps us apply a function on a particular value of a dataset."
   ]
  },
  {
   "cell_type": "code",
   "execution_count": 1,
   "metadata": {},
   "outputs": [],
   "source": [
    "import pandas as pd"
   ]
  },
  {
   "cell_type": "code",
   "execution_count": 2,
   "metadata": {},
   "outputs": [],
   "source": [
    "google = pd.read_csv(\"gspr.csv\", squeeze=True)"
   ]
  },
  {
   "cell_type": "code",
   "execution_count": 3,
   "metadata": {},
   "outputs": [],
   "source": [
    "def classify_per(number):\n",
    "    if number < 300:\n",
    "        return \"OK\"\n",
    "    elif number>=300 and number<650:\n",
    "        return \"satisfactory\"\n",
    "    else:\n",
    "        return \"Indescribable\""
   ]
  },
  {
   "cell_type": "code",
   "execution_count": 4,
   "metadata": {},
   "outputs": [
    {
     "data": {
      "text/plain": [
       "0      Indescribable\n",
       "1      Indescribable\n",
       "2      Indescribable\n",
       "3      Indescribable\n",
       "4      Indescribable\n",
       "           ...      \n",
       "120    Indescribable\n",
       "121    Indescribable\n",
       "122    Indescribable\n",
       "123    Indescribable\n",
       "124    Indescribable\n",
       "Name: Open, Length: 125, dtype: object"
      ]
     },
     "execution_count": 4,
     "metadata": {},
     "output_type": "execute_result"
    }
   ],
   "source": [
    "google.apply(classify_per)"
   ]
  },
  {
   "cell_type": "code",
   "execution_count": 5,
   "metadata": {},
   "outputs": [
    {
     "data": {
      "text/plain": [
       "0      1049.339966\n",
       "1      1065.310059\n",
       "2      1089.000000\n",
       "3      1095.000000\n",
       "4      1103.229980\n",
       "          ...     \n",
       "120    1144.599976\n",
       "121    1129.000000\n",
       "122    1122.339966\n",
       "123    1103.089966\n",
       "124    1121.000000\n",
       "Name: Open, Length: 125, dtype: float64"
      ]
     },
     "execution_count": 5,
     "metadata": {},
     "output_type": "execute_result"
    }
   ],
   "source": [
    "google.apply(lambda stock_price: stock_price+1)"
   ]
  }
 ],
 "metadata": {
  "kernelspec": {
   "display_name": "Python 3",
   "language": "python",
   "name": "python3"
  },
  "language_info": {
   "codemirror_mode": {
    "name": "ipython",
    "version": 3
   },
   "file_extension": ".py",
   "mimetype": "text/x-python",
   "name": "python",
   "nbconvert_exporter": "python",
   "pygments_lexer": "ipython3",
   "version": "3.7.1"
  }
 },
 "nbformat": 4,
 "nbformat_minor": 2
}
