{
 "cells": [
  {
   "cell_type": "markdown",
   "metadata": {},
   "source": [
    "This exercise has been done with the help of videos on Knowledge Shelf YouTube Channel."
   ]
  },
  {
   "cell_type": "code",
   "execution_count": 1,
   "metadata": {},
   "outputs": [],
   "source": [
    "import pandas as pd"
   ]
  },
  {
   "cell_type": "code",
   "execution_count": 2,
   "metadata": {},
   "outputs": [],
   "source": [
    "google = pd.read_csv(\"gsp.csv\")"
   ]
  },
  {
   "cell_type": "code",
   "execution_count": 3,
   "metadata": {},
   "outputs": [
    {
     "data": {
      "text/plain": [
       "0      1266.939941\n",
       "1      1286.290039\n",
       "2      1293.569946\n",
       "3      1304.250000\n",
       "4      1311.270020\n",
       "          ...     \n",
       "120    1343.910034\n",
       "121    1333.209961\n",
       "122    1331.836060\n",
       "123    1322.310059\n",
       "124    1328.227051\n",
       "Name: High, Length: 125, dtype: float64"
      ]
     },
     "execution_count": 3,
     "metadata": {},
     "output_type": "execute_result"
    }
   ],
   "source": [
    "google[\"High\"].add(200) # this wwill add 200 to all the values in column \"High\"."
   ]
  },
  {
   "cell_type": "code",
   "execution_count": 4,
   "metadata": {},
   "outputs": [
    {
     "data": {
      "text/plain": [
       "0      866.939941\n",
       "1      886.290039\n",
       "2      893.569946\n",
       "3      904.250000\n",
       "4      911.270020\n",
       "          ...    \n",
       "120    943.910034\n",
       "121    933.209961\n",
       "122    931.836060\n",
       "123    922.310059\n",
       "124    928.227051\n",
       "Name: High, Length: 125, dtype: float64"
      ]
     },
     "execution_count": 4,
     "metadata": {},
     "output_type": "execute_result"
    }
   ],
   "source": [
    "google['High'].sub(200) # this will subract 200 from all the values in column 'High'"
   ]
  },
  {
   "cell_type": "code",
   "execution_count": 5,
   "metadata": {},
   "outputs": [
    {
     "data": {
      "text/plain": [
       "0      866.939941\n",
       "1      886.290039\n",
       "2      893.569946\n",
       "3      904.250000\n",
       "4      911.270020\n",
       "          ...    \n",
       "120    943.910034\n",
       "121    933.209961\n",
       "122    931.836060\n",
       "123    922.310059\n",
       "124    928.227051\n",
       "Name: High, Length: 125, dtype: float64"
      ]
     },
     "execution_count": 5,
     "metadata": {},
     "output_type": "execute_result"
    }
   ],
   "source": [
    "google[\"High\"]-200 # this will also do the same thing i.e. subtract 200 from all the values in column \"High\""
   ]
  },
  {
   "cell_type": "code",
   "execution_count": 6,
   "metadata": {},
   "outputs": [
    {
     "data": {
      "text/plain": [
       "0      1245.229980\n",
       "1      1263.209961\n",
       "2      1284.001953\n",
       "3      1292.000000\n",
       "4      1301.619995\n",
       "          ...     \n",
       "120    1312.780029\n",
       "121    1316.659058\n",
       "122    1303.619995\n",
       "123    1296.010010\n",
       "124    1315.000000\n",
       "Name: Low, Length: 125, dtype: float64"
      ]
     },
     "execution_count": 6,
     "metadata": {},
     "output_type": "execute_result"
    }
   ],
   "source": [
    "google[\"Low\"]+200 # addition can be done through this statement as well."
   ]
  },
  {
   "cell_type": "code",
   "execution_count": null,
   "metadata": {},
   "outputs": [],
   "source": [
    "google[\"Open\"]*0.5 # this will m"
   ]
  }
 ],
 "metadata": {
  "kernelspec": {
   "display_name": "Python 3",
   "language": "python",
   "name": "python3"
  },
  "language_info": {
   "codemirror_mode": {
    "name": "ipython",
    "version": 3
   },
   "file_extension": ".py",
   "mimetype": "text/x-python",
   "name": "python",
   "nbconvert_exporter": "python",
   "pygments_lexer": "ipython3",
   "version": "3.7.1"
  }
 },
 "nbformat": 4,
 "nbformat_minor": 2
}
