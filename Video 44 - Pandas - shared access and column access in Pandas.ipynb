{
 "cells": [
  {
   "cell_type": "markdown",
   "metadata": {},
   "source": [
    "This exercise has been done with the help of videos on Knowledge Shelf YouTube Channel."
   ]
  },
  {
   "cell_type": "code",
   "execution_count": 1,
   "metadata": {},
   "outputs": [],
   "source": [
    "import pandas as pd"
   ]
  },
  {
   "cell_type": "code",
   "execution_count": 2,
   "metadata": {},
   "outputs": [],
   "source": [
    "google = pd.read_csv(\"gsp.csv\", index_col=\"Open\")"
   ]
  },
  {
   "cell_type": "code",
   "execution_count": 4,
   "metadata": {},
   "outputs": [],
   "source": [
    "s = pd.Series([1,2,3])"
   ]
  },
  {
   "cell_type": "code",
   "execution_count": 5,
   "metadata": {},
   "outputs": [
    {
     "data": {
      "text/plain": [
       "0    1\n",
       "1    2\n",
       "2    3\n",
       "dtype: int64"
      ]
     },
     "execution_count": 5,
     "metadata": {},
     "output_type": "execute_result"
    }
   ],
   "source": [
    "s"
   ]
  },
  {
   "cell_type": "code",
   "execution_count": 6,
   "metadata": {},
   "outputs": [
    {
     "data": {
      "text/plain": [
       "Date         02-01-201803-01-201804-01-201805-01-201808-01-...\n",
       "High                                                    137907\n",
       "Low                                                     135052\n",
       "Close                                                   136507\n",
       "Adj Close                                               136507\n",
       "Volume                                               222065100\n",
       "dtype: object"
      ]
     },
     "execution_count": 6,
     "metadata": {},
     "output_type": "execute_result"
    }
   ],
   "source": [
    "google.sum() # it will add data in a column and display."
   ]
  },
  {
   "cell_type": "code",
   "execution_count": 7,
   "metadata": {},
   "outputs": [
    {
     "data": {
      "text/plain": [
       "Date         02-01-201803-01-201804-01-201805-01-201808-01-...\n",
       "High                                                    137907\n",
       "Low                                                     135052\n",
       "Close                                                   136507\n",
       "Adj Close                                               136507\n",
       "Volume                                               222065100\n",
       "dtype: object"
      ]
     },
     "execution_count": 7,
     "metadata": {},
     "output_type": "execute_result"
    }
   ],
   "source": [
    "google.sum(axis=0) # same output as before i.e. axis=0 will give column wise addidtion."
   ]
  },
  {
   "cell_type": "code",
   "execution_count": 8,
   "metadata": {},
   "outputs": [
    {
     "data": {
      "text/plain": [
       "Date         02-01-201803-01-201804-01-201805-01-201808-01-...\n",
       "High                                                    137907\n",
       "Low                                                     135052\n",
       "Close                                                   136507\n",
       "Adj Close                                               136507\n",
       "Volume                                               222065100\n",
       "dtype: object"
      ]
     },
     "execution_count": 8,
     "metadata": {},
     "output_type": "execute_result"
    }
   ],
   "source": [
    "google.sum(axis=\"index\")"
   ]
  },
  {
   "cell_type": "code",
   "execution_count": 9,
   "metadata": {},
   "outputs": [
    {
     "data": {
      "text/plain": [
       "Open\n",
       "1048.339966    1.241842e+06\n",
       "1064.310059    1.434514e+06\n",
       "1088.000000    1.008950e+06\n",
       "1094.000000    1.283501e+06\n",
       "1102.229980    1.052027e+06\n",
       "                   ...     \n",
       "1143.599976    2.161806e+06\n",
       "1128.000000    1.567687e+06\n",
       "1121.339966    1.298343e+06\n",
       "1102.089966    1.076847e+06\n",
       "1120.000000    1.319575e+06\n",
       "Length: 125, dtype: float64"
      ]
     },
     "execution_count": 9,
     "metadata": {},
     "output_type": "execute_result"
    }
   ],
   "source": [
    "google.sum(axis=1)"
   ]
  },
  {
   "cell_type": "code",
   "execution_count": 10,
   "metadata": {},
   "outputs": [
    {
     "data": {
      "text/plain": [
       "Open\n",
       "1048.339966    1.241842e+06\n",
       "1064.310059    1.434514e+06\n",
       "1088.000000    1.008950e+06\n",
       "1094.000000    1.283501e+06\n",
       "1102.229980    1.052027e+06\n",
       "                   ...     \n",
       "1143.599976    2.161806e+06\n",
       "1128.000000    1.567687e+06\n",
       "1121.339966    1.298343e+06\n",
       "1102.089966    1.076847e+06\n",
       "1120.000000    1.319575e+06\n",
       "Length: 125, dtype: float64"
      ]
     },
     "execution_count": 10,
     "metadata": {},
     "output_type": "execute_result"
    }
   ],
   "source": [
    "google.sum(axis=\"columns\")"
   ]
  }
 ],
 "metadata": {
  "kernelspec": {
   "display_name": "Python 3",
   "language": "python",
   "name": "python3"
  },
  "language_info": {
   "codemirror_mode": {
    "name": "ipython",
    "version": 3
   },
   "file_extension": ".py",
   "mimetype": "text/x-python",
   "name": "python",
   "nbconvert_exporter": "python",
   "pygments_lexer": "ipython3",
   "version": "3.7.1"
  }
 },
 "nbformat": 4,
 "nbformat_minor": 2
}
