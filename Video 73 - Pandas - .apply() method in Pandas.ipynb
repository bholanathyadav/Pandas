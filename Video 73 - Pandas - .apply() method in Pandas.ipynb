{
 "cells": [
  {
   "cell_type": "markdown",
   "metadata": {},
   "source": [
    "This exercise has been done with the help of videos on Knowledge Shelf YouTube Channel."
   ]
  },
  {
   "cell_type": "code",
   "execution_count": 1,
   "metadata": {},
   "outputs": [],
   "source": [
    "import pandas as pd"
   ]
  },
  {
   "cell_type": "code",
   "execution_count": 2,
   "metadata": {},
   "outputs": [],
   "source": [
    "bond = pd.read_csv(\"JB007.csv\", index_col=\"Film\")"
   ]
  },
  {
   "cell_type": "code",
   "execution_count": 3,
   "metadata": {},
   "outputs": [],
   "source": [
    "bond.sort_index(inplace=True)"
   ]
  },
  {
   "cell_type": "code",
   "execution_count": 4,
   "metadata": {},
   "outputs": [],
   "source": [
    "def add_millions(number):\n",
    "    return str(number)+\" Millions!\""
   ]
  },
  {
   "cell_type": "code",
   "execution_count": 5,
   "metadata": {},
   "outputs": [
    {
     "data": {
      "text/plain": [
       "Film\n",
       "A View to a Kill                   275.2 Millions!\n",
       "Casino Royale                      581.5 Millions!\n",
       "Diamonds Are Forever               442.5 Millions!\n",
       "Die Another Day                    465.4 Millions!\n",
       "Dr. No                             448.8 Millions!\n",
       "For Your Eyes Only                 449.4 Millions!\n",
       "From Russia With Love              543.8 Millions!\n",
       "GoldenEye                          518.5 Millions!\n",
       "Goldfinger                         820.4 Millions!\n",
       "Licence to Kill                    250.9 Millions!\n",
       "Live and Let Die                   460.3 Millions!\n",
       "Moonraker                          535.0 Millions!\n",
       "Octopussy                          373.8 Millions!\n",
       "On Her Majesty's Secret Service    291.5 Millions!\n",
       "Quantum of Solace                  514.2 Millions!\n",
       "Skyfall                            879.8 Millions!\n",
       "The Living Daylights               313.5 Millions!\n",
       "The Man with the Golden Gun        334.0 Millions!\n",
       "The Spy Who Loved Me               533.0 Millions!\n",
       "The World is Not Enough            439.5 Millions!\n",
       "Thunderball                        848.1 Millions!\n",
       "Tomorrow Never Dies                463.2 Millions!\n",
       "You Only Live Twice                514.2 Millions!\n",
       "Name: Adjusted box office, dtype: object"
      ]
     },
     "execution_count": 5,
     "metadata": {},
     "output_type": "execute_result"
    }
   ],
   "source": [
    "bond[\"Adjusted box office\"].apply(add_millions)"
   ]
  },
  {
   "cell_type": "code",
   "execution_count": 6,
   "metadata": {},
   "outputs": [],
   "source": [
    "columns = [\"Adjusted box office\",\"Actual box office\",\"Adjusted budget\"]"
   ]
  },
  {
   "cell_type": "code",
   "execution_count": 7,
   "metadata": {},
   "outputs": [
    {
     "name": "stdout",
     "output_type": "stream",
     "text": [
      "Film\n",
      "A View to a Kill                   275.2 Millions!\n",
      "Casino Royale                      581.5 Millions!\n",
      "Diamonds Are Forever               442.5 Millions!\n",
      "Die Another Day                    465.4 Millions!\n",
      "Dr. No                             448.8 Millions!\n",
      "For Your Eyes Only                 449.4 Millions!\n",
      "From Russia With Love              543.8 Millions!\n",
      "GoldenEye                          518.5 Millions!\n",
      "Goldfinger                         820.4 Millions!\n",
      "Licence to Kill                    250.9 Millions!\n",
      "Live and Let Die                   460.3 Millions!\n",
      "Moonraker                          535.0 Millions!\n",
      "Octopussy                          373.8 Millions!\n",
      "On Her Majesty's Secret Service    291.5 Millions!\n",
      "Quantum of Solace                  514.2 Millions!\n",
      "Skyfall                            879.8 Millions!\n",
      "The Living Daylights               313.5 Millions!\n",
      "The Man with the Golden Gun        334.0 Millions!\n",
      "The Spy Who Loved Me               533.0 Millions!\n",
      "The World is Not Enough            439.5 Millions!\n",
      "Thunderball                        848.1 Millions!\n",
      "Tomorrow Never Dies                463.2 Millions!\n",
      "You Only Live Twice                514.2 Millions!\n",
      "Name: Adjusted box office, dtype: object\n",
      "Film\n",
      "A View to a Kill                    152.4 Millions!\n",
      "Casino Royale                       594.2 Millions!\n",
      "Diamonds Are Forever                116.0 Millions!\n",
      "Die Another Day                     431.9 Millions!\n",
      "Dr. No                               59.5 Millions!\n",
      "For Your Eyes Only                  194.9 Millions!\n",
      "From Russia With Love                78.9 Millions!\n",
      "GoldenEye                           351.9 Millions!\n",
      "Goldfinger                          124.9 Millions!\n",
      "Licence to Kill                     156.2 Millions!\n",
      "Live and Let Die                    126.4 Millions!\n",
      "Moonraker                           210.3 Millions!\n",
      "Octopussy                           183.7 Millions!\n",
      "On Her Majesty's Secret Service      64.6 Millions!\n",
      "Quantum of Solace                   576.0 Millions!\n",
      "Skyfall                            1108.6 Millions!\n",
      "The Living Daylights                191.2 Millions!\n",
      "The Man with the Golden Gun          98.5 Millions!\n",
      "The Spy Who Loved Me                185.4 Millions!\n",
      "The World is Not Enough             361.8 Millions!\n",
      "Thunderball                         141.2 Millions!\n",
      "Tomorrow Never Dies                 338.9 Millions!\n",
      "You Only Live Twice                 101.0 Millions!\n",
      "Name: Actual box office, dtype: object\n",
      "Film\n",
      "A View to a Kill                    54.5 Millions!\n",
      "Casino Royale                      145.3 Millions!\n",
      "Diamonds Are Forever                34.7 Millions!\n",
      "Die Another Day                    154.2 Millions!\n",
      "Dr. No                               7.0 Millions!\n",
      "For Your Eyes Only                  60.2 Millions!\n",
      "From Russia With Love               12.6 Millions!\n",
      "GoldenEye                           76.9 Millions!\n",
      "Goldfinger                          18.6 Millions!\n",
      "Licence to Kill                     56.7 Millions!\n",
      "Live and Let Die                    30.8 Millions!\n",
      "Moonraker                           91.5 Millions!\n",
      "Octopussy                           53.9 Millions!\n",
      "On Her Majesty's Secret Service     37.3 Millions!\n",
      "Quantum of Solace                  181.4 Millions!\n",
      "Skyfall                            158.1 Millions!\n",
      "The Living Daylights                68.8 Millions!\n",
      "The Man with the Golden Gun         27.7 Millions!\n",
      "The Spy Who Loved Me                45.1 Millions!\n",
      "The World is Not Enough            158.3 Millions!\n",
      "Thunderball                         41.9 Millions!\n",
      "Tomorrow Never Dies                133.9 Millions!\n",
      "You Only Live Twice                 59.9 Millions!\n",
      "Name: Adjusted budget, dtype: object\n"
     ]
    }
   ],
   "source": [
    "for col in columns: \n",
    "    print(bond[col].apply(add_millions))"
   ]
  }
 ],
 "metadata": {
  "kernelspec": {
   "display_name": "Python 3",
   "language": "python",
   "name": "python3"
  },
  "language_info": {
   "codemirror_mode": {
    "name": "ipython",
    "version": 3
   },
   "file_extension": ".py",
   "mimetype": "text/x-python",
   "name": "python",
   "nbconvert_exporter": "python",
   "pygments_lexer": "ipython3",
   "version": "3.7.1"
  }
 },
 "nbformat": 4,
 "nbformat_minor": 2
}
